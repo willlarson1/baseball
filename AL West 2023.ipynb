{
 "cells": [
  {
   "cell_type": "markdown",
   "id": "ecf1150d-f698-4a5f-adb6-9a086d0933da",
   "metadata": {},
   "source": [
    "#A look at the 2023 American League West\n",
    "\n",
    "With a little more than one month remaining in the 2023 regular season, the American League West division has emerged as the most competitive division race in baseball. As of August 28th, the Seattle Mariners, Texas Rangers, and Houston Astros all stand at least 16 games over .500 and within one game of the divisional lead.\n",
    "\n"
   ]
  },
  {
   "cell_type": "code",
   "execution_count": 5,
   "id": "f4b128f5-9a1a-4607-8c98-aa1fc4e9781c",
   "metadata": {},
   "outputs": [],
   "source": [
    "import pybaseball as pb\n",
    "import numpy as np\n",
    "import pandas as pd\n",
    "import matplotlib.pyplot as plt"
   ]
  },
  {
   "cell_type": "code",
   "execution_count": 3,
   "id": "e9045f31-281a-4478-823e-a7f9c77b26da",
   "metadata": {},
   "outputs": [
    {
     "name": "stdout",
     "output_type": "stream",
     "text": [
      "                   Tm   W   L  W-L%    GB  E#\n",
      "1    Seattle Mariners  74  56  .569    --  --\n",
      "2       Texas Rangers  73  57  .562   1.0  32\n",
      "3      Houston Astros  74  58  .561   1.0  31\n",
      "4  Los Angeles Angels  63  68  .481  11.5  21\n",
      "5   Oakland Athletics  38  93  .290  36.5   ☠\n"
     ]
    }
   ],
   "source": [
    "print(pb.standings()[2])"
   ]
  },
  {
   "cell_type": "markdown",
   "id": "7bf19104-89ac-4369-821b-4fcbad7831fc",
   "metadata": {},
   "source": [
    "In this article I will dive into some of the division's key statistics, trends, and storylines, with supporting visualizations and data where I find it helpful."
   ]
  }
 ],
 "metadata": {
  "kernelspec": {
   "display_name": "Python 3 (ipykernel)",
   "language": "python",
   "name": "python3"
  },
  "language_info": {
   "codemirror_mode": {
    "name": "ipython",
    "version": 3
   },
   "file_extension": ".py",
   "mimetype": "text/x-python",
   "name": "python",
   "nbconvert_exporter": "python",
   "pygments_lexer": "ipython3",
   "version": "3.11.1"
  }
 },
 "nbformat": 4,
 "nbformat_minor": 5
}
