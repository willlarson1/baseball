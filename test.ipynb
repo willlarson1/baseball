{
 "cells": [
  {
   "cell_type": "code",
   "execution_count": 10,
   "id": "817ad17a-2a86-4365-b61f-c174b5f9d1cd",
   "metadata": {},
   "outputs": [],
   "source": [
    "import pybaseball as pyb"
   ]
  },
  {
   "cell_type": "code",
   "execution_count": 11,
   "id": "68b7afb6-4f83-4369-9e0e-59fd79fc2718",
   "metadata": {},
   "outputs": [
    {
     "name": "stdout",
     "output_type": "stream",
     "text": [
      "[                  Tm   W   L  W-L%    GB  E#\n",
      "1  Baltimore Orioles  81  49  .623    --  --\n",
      "2     Tampa Bay Rays  80  52  .606   2.0  30\n",
      "3  Toronto Blue Jays  71  60  .542  10.5  22\n",
      "4     Boston Red Sox  69  62  .527  12.5  20\n",
      "5   New York Yankees  62  68  .477  19.0  14,                     Tm   W   L  W-L%    GB  E#\n",
      "1      Minnesota Twins  68  63  .519    --  --\n",
      "2  Cleveland Guardians  62  69  .473   6.0  26\n",
      "3       Detroit Tigers  59  71  .454   8.5  24\n",
      "4    Chicago White Sox  52  79  .397  16.0  16\n",
      "5   Kansas City Royals  41  91  .311  27.5   4,                    Tm   W   L  W-L%    GB  E#\n",
      "1    Seattle Mariners  74  56  .569    --  --\n",
      "2       Texas Rangers  73  57  .562   1.0  32\n",
      "3      Houston Astros  74  58  .561   1.0  31\n",
      "4  Los Angeles Angels  63  68  .481  11.5  21\n",
      "5   Oakland Athletics  38  93  .290  36.5   ☠,                       Tm   W   L  W-L%    GB  E#\n",
      "1         Atlanta Braves  84  45  .651    --  --\n",
      "2  Philadelphia Phillies  72  58  .554  12.5  21\n",
      "3          Miami Marlins  66  65  .504  19.0  14\n",
      "4   Washington Nationals  61  70  .466  24.0   9\n",
      "5          New York Mets  60  71  .458  25.0   8,                     Tm   W   L  W-L%    GB  E#\n",
      "1    Milwaukee Brewers  73  57  .562    --  --\n",
      "2         Chicago Cubs  69  61  .531   4.0  29\n",
      "3      Cincinnati Reds  68  64  .515   6.0  26\n",
      "4   Pittsburgh Pirates  58  73  .443  15.5  17\n",
      "5  St. Louis Cardinals  56  75  .427  17.5  15,                      Tm   W   L  W-L%    GB  E#\n",
      "1   Los Angeles Dodgers  80  49  .620    --  --\n",
      "2  Arizona Diamondbacks  69  62  .527  12.0  21\n",
      "3  San Francisco Giants  67  63  .515  13.5  20\n",
      "4      San Diego Padres  61  70  .466  20.0  13\n",
      "5      Colorado Rockies  49  81  .377  31.5   2]\n"
     ]
    }
   ],
   "source": [
    "print(pyb.standings())"
   ]
  },
  {
   "cell_type": "code",
   "execution_count": 5,
   "id": "5b735879-7167-4b80-a5b8-2f70406eb6d3",
   "metadata": {},
   "outputs": [
    {
     "name": "stdout",
     "output_type": "stream",
     "text": [
      "http://www.baseball-reference.com/teams/WSN/2023-schedule-scores.shtml\n",
      "                R          RA         Inn        Rank    Attendance  \\\n",
      "count  131.000000  131.000000  131.000000  131.000000    130.000000   \n",
      "mean     4.366412    5.076336    9.045802    4.877863  25708.246154   \n",
      "std      2.706704    3.359529    0.243772    0.392681   9977.412284   \n",
      "min      0.000000    0.000000    9.000000    3.000000   2473.000000   \n",
      "25%      2.000000    3.000000    9.000000    5.000000  18216.250000   \n",
      "50%      4.000000    5.000000    9.000000    5.000000  23366.500000   \n",
      "75%      6.000000    7.000000    9.000000    5.000000  32354.000000   \n",
      "max     12.000000   19.000000   11.000000    5.000000  48230.000000   \n",
      "\n",
      "           Streak  \n",
      "count  129.000000  \n",
      "mean    -0.341085  \n",
      "std      2.074759  \n",
      "min     -6.000000  \n",
      "25%     -2.000000  \n",
      "50%     -1.000000  \n",
      "75%      1.000000  \n",
      "max      4.000000  \n"
     ]
    }
   ],
   "source": [
    "print(pyb.schedule_and_record(2023, \"WSN\").describe())"
   ]
  },
  {
   "cell_type": "markdown",
   "id": "3e9b6962-c570-4dd4-ae88-30f8d1f026d9",
   "metadata": {
    "editable": true,
    "raw_mimetype": "",
    "slideshow": {
     "slide_type": ""
    },
    "tags": []
   },
   "source": [
    "__Test__\n",
    "\n",
    "\n",
    "*Test*"
   ]
  },
  {
   "cell_type": "code",
   "execution_count": 2,
   "id": "4f72d772-82e5-4a05-9387-22df25bbe78d",
   "metadata": {},
   "outputs": [
    {
     "name": "stdout",
     "output_type": "stream",
     "text": [
      "Collecting pybaseball\n",
      "  Using cached pybaseball-2.2.5-py3-none-any.whl (419 kB)\n",
      "Collecting numpy>=1.13.0\n",
      "  Using cached numpy-1.25.2-cp311-cp311-macosx_11_0_arm64.whl (14.0 MB)\n",
      "Collecting pandas>=1.0.3\n",
      "  Using cached pandas-2.0.3-cp311-cp311-macosx_11_0_arm64.whl (10.7 MB)\n",
      "Requirement already satisfied: beautifulsoup4>=4.4.0 in /Library/Frameworks/Python.framework/Versions/3.11/lib/python3.11/site-packages (from pybaseball) (4.12.2)\n",
      "Requirement already satisfied: requests>=2.18.1 in /Library/Frameworks/Python.framework/Versions/3.11/lib/python3.11/site-packages (from pybaseball) (2.31.0)\n",
      "Collecting lxml>=4.2.1\n",
      "  Using cached lxml-4.9.3-cp311-cp311-macosx_11_0_universal2.whl (8.6 MB)\n",
      "Collecting pyarrow>=1.0.1\n",
      "  Using cached pyarrow-13.0.0-cp311-cp311-macosx_11_0_arm64.whl (23.6 MB)\n",
      "Collecting pygithub>=1.51\n",
      "  Using cached PyGithub-1.59.1-py3-none-any.whl (342 kB)\n",
      "Collecting scipy>=1.4.0\n",
      "  Using cached scipy-1.11.2-cp311-cp311-macosx_12_0_arm64.whl (29.6 MB)\n",
      "Collecting matplotlib>=2.0.0\n",
      "  Using cached matplotlib-3.7.2-cp311-cp311-macosx_11_0_arm64.whl (7.3 MB)\n",
      "Collecting tqdm>=4.50.0\n",
      "  Using cached tqdm-4.66.1-py3-none-any.whl (78 kB)\n",
      "Requirement already satisfied: attrs>=20.3.0 in /Library/Frameworks/Python.framework/Versions/3.11/lib/python3.11/site-packages (from pybaseball) (23.1.0)\n",
      "Requirement already satisfied: soupsieve>1.2 in /Library/Frameworks/Python.framework/Versions/3.11/lib/python3.11/site-packages (from beautifulsoup4>=4.4.0->pybaseball) (2.4.1)\n",
      "Collecting contourpy>=1.0.1\n",
      "  Using cached contourpy-1.1.0-cp311-cp311-macosx_11_0_arm64.whl (229 kB)\n",
      "Collecting cycler>=0.10\n",
      "  Using cached cycler-0.11.0-py3-none-any.whl (6.4 kB)\n",
      "Collecting fonttools>=4.22.0\n",
      "  Using cached fonttools-4.42.1-cp311-cp311-macosx_10_9_universal2.whl (2.7 MB)\n",
      "Collecting kiwisolver>=1.0.1\n",
      "  Using cached kiwisolver-1.4.5-cp311-cp311-macosx_11_0_arm64.whl (66 kB)\n",
      "Requirement already satisfied: packaging>=20.0 in /Library/Frameworks/Python.framework/Versions/3.11/lib/python3.11/site-packages (from matplotlib>=2.0.0->pybaseball) (23.1)\n",
      "Collecting pillow>=6.2.0\n",
      "  Using cached Pillow-10.0.0-cp311-cp311-macosx_11_0_arm64.whl (3.1 MB)\n",
      "Collecting pyparsing<3.1,>=2.3.1\n",
      "  Using cached pyparsing-3.0.9-py3-none-any.whl (98 kB)\n",
      "Requirement already satisfied: python-dateutil>=2.7 in /Library/Frameworks/Python.framework/Versions/3.11/lib/python3.11/site-packages (from matplotlib>=2.0.0->pybaseball) (2.8.2)\n",
      "Collecting pytz>=2020.1\n",
      "  Using cached pytz-2023.3-py2.py3-none-any.whl (502 kB)\n",
      "Collecting tzdata>=2022.1\n",
      "  Using cached tzdata-2023.3-py2.py3-none-any.whl (341 kB)\n",
      "Collecting deprecated\n",
      "  Using cached Deprecated-1.2.14-py2.py3-none-any.whl (9.6 kB)\n",
      "Collecting pyjwt[crypto]>=2.4.0\n",
      "  Using cached PyJWT-2.8.0-py3-none-any.whl (22 kB)\n",
      "Collecting pynacl>=1.4.0\n",
      "  Using cached PyNaCl-1.5.0-cp36-abi3-macosx_10_10_universal2.whl (349 kB)\n",
      "Requirement already satisfied: charset-normalizer<4,>=2 in /Library/Frameworks/Python.framework/Versions/3.11/lib/python3.11/site-packages (from requests>=2.18.1->pybaseball) (3.2.0)\n",
      "Requirement already satisfied: idna<4,>=2.5 in /Library/Frameworks/Python.framework/Versions/3.11/lib/python3.11/site-packages (from requests>=2.18.1->pybaseball) (3.4)\n",
      "Requirement already satisfied: urllib3<3,>=1.21.1 in /Library/Frameworks/Python.framework/Versions/3.11/lib/python3.11/site-packages (from requests>=2.18.1->pybaseball) (2.0.4)\n",
      "Requirement already satisfied: certifi>=2017.4.17 in /Library/Frameworks/Python.framework/Versions/3.11/lib/python3.11/site-packages (from requests>=2.18.1->pybaseball) (2023.7.22)\n",
      "Collecting cryptography>=3.4.0\n",
      "  Using cached cryptography-41.0.3-cp37-abi3-macosx_10_12_universal2.whl (5.3 MB)\n",
      "Requirement already satisfied: cffi>=1.4.1 in /Library/Frameworks/Python.framework/Versions/3.11/lib/python3.11/site-packages (from pynacl>=1.4.0->pygithub>=1.51->pybaseball) (1.15.1)\n",
      "Requirement already satisfied: six>=1.5 in /Library/Frameworks/Python.framework/Versions/3.11/lib/python3.11/site-packages (from python-dateutil>=2.7->matplotlib>=2.0.0->pybaseball) (1.16.0)\n",
      "Collecting wrapt<2,>=1.10\n",
      "  Using cached wrapt-1.15.0-cp311-cp311-macosx_11_0_arm64.whl (36 kB)\n",
      "Requirement already satisfied: pycparser in /Library/Frameworks/Python.framework/Versions/3.11/lib/python3.11/site-packages (from cffi>=1.4.1->pynacl>=1.4.0->pygithub>=1.51->pybaseball) (2.21)\n",
      "Installing collected packages: pytz, wrapt, tzdata, tqdm, pyparsing, pyjwt, pillow, numpy, lxml, kiwisolver, fonttools, cycler, scipy, pynacl, pyarrow, pandas, deprecated, cryptography, contourpy, matplotlib, pygithub, pybaseball\n",
      "Successfully installed contourpy-1.1.0 cryptography-41.0.3 cycler-0.11.0 deprecated-1.2.14 fonttools-4.42.1 kiwisolver-1.4.5 lxml-4.9.3 matplotlib-3.7.2 numpy-1.25.2 pandas-2.0.3 pillow-10.0.0 pyarrow-13.0.0 pybaseball-2.2.5 pygithub-1.59.1 pyjwt-2.8.0 pynacl-1.5.0 pyparsing-3.0.9 pytz-2023.3 scipy-1.11.2 tqdm-4.66.1 tzdata-2023.3 wrapt-1.15.0\n",
      "\n",
      "\u001b[1m[\u001b[0m\u001b[34;49mnotice\u001b[0m\u001b[1;39;49m]\u001b[0m\u001b[39;49m A new release of pip is available: \u001b[0m\u001b[31;49m23.0\u001b[0m\u001b[39;49m -> \u001b[0m\u001b[32;49m23.2.1\u001b[0m\n",
      "\u001b[1m[\u001b[0m\u001b[34;49mnotice\u001b[0m\u001b[1;39;49m]\u001b[0m\u001b[39;49m To update, run: \u001b[0m\u001b[32;49mpip install --upgrade pip\u001b[0m\n"
     ]
    }
   ],
   "source": [
    "!pip install pybaseball"
   ]
  },
  {
   "cell_type": "code",
   "execution_count": 3,
   "id": "7a9c6abc-5cb1-4b41-a50e-b486cc06e94c",
   "metadata": {},
   "outputs": [
    {
     "name": "stdout",
     "output_type": "stream",
     "text": [
      "[                  Tm   W   L  W-L%    GB  E#\n",
      "1  Baltimore Orioles  81  49  .623    --  --\n",
      "2     Tampa Bay Rays  80  52  .606   2.0  30\n",
      "3  Toronto Blue Jays  71  60  .542  10.5  22\n",
      "4     Boston Red Sox  69  62  .527  12.5  20\n",
      "5   New York Yankees  62  68  .477  19.0  14,                     Tm   W   L  W-L%    GB  E#\n",
      "1      Minnesota Twins  68  63  .519    --  --\n",
      "2  Cleveland Guardians  62  69  .473   6.0  26\n",
      "3       Detroit Tigers  59  71  .454   8.5  24\n",
      "4    Chicago White Sox  52  79  .397  16.0  16\n",
      "5   Kansas City Royals  41  91  .311  27.5   4,                    Tm   W   L  W-L%    GB  E#\n",
      "1    Seattle Mariners  74  56  .569    --  --\n",
      "2       Texas Rangers  73  57  .562   1.0  32\n",
      "3      Houston Astros  74  58  .561   1.0  31\n",
      "4  Los Angeles Angels  63  68  .481  11.5  21\n",
      "5   Oakland Athletics  38  93  .290  36.5   ☠,                       Tm   W   L  W-L%    GB  E#\n",
      "1         Atlanta Braves  84  45  .651    --  --\n",
      "2  Philadelphia Phillies  72  58  .554  12.5  21\n",
      "3          Miami Marlins  66  65  .504  19.0  14\n",
      "4   Washington Nationals  61  70  .466  24.0   9\n",
      "5          New York Mets  60  71  .458  25.0   8,                     Tm   W   L  W-L%    GB  E#\n",
      "1    Milwaukee Brewers  73  57  .562    --  --\n",
      "2         Chicago Cubs  69  61  .531   4.0  29\n",
      "3      Cincinnati Reds  68  64  .515   6.0  26\n",
      "4   Pittsburgh Pirates  58  73  .443  15.5  17\n",
      "5  St. Louis Cardinals  56  75  .427  17.5  15,                      Tm   W   L  W-L%    GB  E#\n",
      "1   Los Angeles Dodgers  80  49  .620    --  --\n",
      "2  Arizona Diamondbacks  69  62  .527  12.0  21\n",
      "3  San Francisco Giants  67  63  .515  13.5  20\n",
      "4      San Diego Padres  61  70  .466  20.0  13\n",
      "5      Colorado Rockies  49  81  .377  31.5   2]\n"
     ]
    }
   ],
   "source": [
    "import pybaseball as pyb\n",
    "print(pyb.standings())"
   ]
  },
  {
   "cell_type": "code",
   "execution_count": null,
   "id": "72c80477-6770-4f68-8002-ccaeb5fca046",
   "metadata": {},
   "outputs": [],
   "source": []
  }
 ],
 "metadata": {
  "kernelspec": {
   "display_name": "Python 3 (ipykernel)",
   "language": "python",
   "name": "python3"
  },
  "language_info": {
   "codemirror_mode": {
    "name": "ipython",
    "version": 3
   },
   "file_extension": ".py",
   "mimetype": "text/x-python",
   "name": "python",
   "nbconvert_exporter": "python",
   "pygments_lexer": "ipython3",
   "version": "3.11.1"
  }
 },
 "nbformat": 4,
 "nbformat_minor": 5
}
